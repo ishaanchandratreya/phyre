{
 "cells": [
  {
   "cell_type": "markdown",
   "metadata": {},
   "source": [
    "# Introduction to PHYRE\n",
    "\n",
    "PHYRE consists of an environment, a two-dimensional world with Newtonian physics, and a set of tasks.\n",
    "Each task consists of an initial scene with some geometric bodies and a goal condition that should be satisified.\n",
    "An agent can introduce one or two extra objects into a scene. Once done, the agent request of sumulation of scene.\n",
    "The task is considered to be **solved**, if after the simulation the goal condition is satisfied.\n",
    "\n",
    "The image below shows three different tasks (on the left) and result of simulation with a ball introduced into the scene. Note that in the current version of the dataset all tasks have the same goal: a pair of colored object (blue, green, or purple) should touch each other.\n",
    "\n",
    "\n",
    "This notebook shows how to use the ```phyre``` API to interact with the environment and tasks and how to train a simple random agent.\n",
    "\n",
    "![PHYRE tasks](../imgs/task_example.png \"PHYRE tasks and simulation example\")\n",
    "\n"
   ]
  },
  {
   "cell_type": "markdown",
   "metadata": {},
   "source": [
    "### Run this in colab\n",
    "You can open and play with this notebook in colab. \n",
    "<a href=\"https://colab.research.google.com/github/facebookresearch/phyre/blob/master/examples/01_phyre_intro.ipynb\" target=\"_parent\">Open In Colab</a>"
   ]
  },
  {
   "cell_type": "code",
   "execution_count": null,
   "metadata": {},
   "outputs": [],
   "source": [
    "# Install phyre and auxiliary packages.\n",
    "!pip install phyre matplotlib tqdm ipywidgets"
   ]
  },
  {
   "cell_type": "code",
   "execution_count": 1,
   "metadata": {},
   "outputs": [],
   "source": [
    "import math\n",
    "import random\n",
    "\n",
    "import matplotlib.pyplot as plt\n",
    "import numpy as np\n",
    "from tqdm import tqdm_notebook\n",
    "\n",
    "import phyre\n",
    "random.seed(0)"
   ]
  },
  {
   "cell_type": "markdown",
   "metadata": {},
   "source": [
    "# Part 1: Introduction to PHYRE simulator\n",
    "\n",
    "\n",
    "As described in the [PHYRE paper](https://arxiv.org/abs/1908.05656), the dataset consists consists of two groups of tasks referred to as **tiers**.\n",
    "Currently we have two tiers: `ball` and `two_balls`. Tasks in the former tier are guaranteed to be solvable with a single ball, i.e., a goal condition could be satisfied at the end of simulation if a ball of right size is introduced at a right location. Naturally, tasks in the latter tier require two balls.\n",
    "\n",
    "Within each tier tasks are grouped in **task templates**. Each template consists of 100 conceptually similar modifications. The image below shows some examples of tasks from different templates and from the same template.\n",
    "\n",
    "![PHYRE tasks](../imgs/cross_within.png \"PHYRE tasks and templates\")\n"
   ]
  },
  {
   "cell_type": "markdown",
   "metadata": {},
   "source": [
    "## Eval setups\n",
    "\n",
    "We can measure two types of generalization: within template and cross template.\n",
    "This could be done for both tiers resulting in four **eval setups**.\n",
    "Each eval setup defines which tasks to use for training, validation and testing. One can access the list of eval setups using `phyre.MAIN_EVAL_SETUPS`."
   ]
  },
  {
   "cell_type": "code",
   "execution_count": 2,
   "metadata": {},
   "outputs": [
    {
     "name": "stdout",
     "output_type": "stream",
     "text": [
      "All eval setups: ball_cross_template ball_within_template two_balls_cross_template two_balls_within_template\n"
     ]
    }
   ],
   "source": [
    "print('All eval setups:', *phyre.MAIN_EVAL_SETUPS)\n",
    "# For now, let's select cross template for ball tier.\n",
    "eval_setup = 'ball_cross_template'"
   ]
  },
  {
   "cell_type": "markdown",
   "metadata": {},
   "source": [
    "For any type of generalization we can build multiple splits intro train, dev, and test. Moreover, different splits will have different complexity. Due to that reason we recommend to use 10 folds to report results (see paper for details). Here, we will a single fold."
   ]
  },
  {
   "cell_type": "code",
   "execution_count": 8,
   "metadata": {},
   "outputs": [
    {
     "name": "stdout",
     "output_type": "stream",
     "text": [
      "Size of resulting splits:\n",
      " train: 1600 \n",
      " dev: 400 \n",
      " test: 500\n"
     ]
    }
   ],
   "source": [
    "fold_id = 2 # For simplicity, we will just use one fold for evaluation.\n",
    "train_tasks, dev_tasks, test_tasks = phyre.get_fold(eval_setup, fold_id)\n",
    "print('Size of resulting splits:\\n train:', len(train_tasks), '\\n dev:',\n",
    "      len(dev_tasks), '\\n test:', len(test_tasks))"
   ]
  },
  {
   "cell_type": "markdown",
   "metadata": {},
   "source": [
    "Each split contains a tuple of tasks in the format ```TEMPLATE_ID:INSTANCE_ID```. Let's look into some dev tasks for example:"
   ]
  },
  {
   "cell_type": "code",
   "execution_count": 9,
   "metadata": {
    "scrolled": true
   },
   "outputs": [
    {
     "name": "stdout",
     "output_type": "stream",
     "text": [
      "00002:007, 00002:011, 00002:015, 00002:017, 00002:023, 00002:026, 00002:028, 00002:029, 00002:031, 00002:041\n"
     ]
    }
   ],
   "source": [
    "print(*test_tasks[:10], sep=', ')"
   ]
  },
  {
   "cell_type": "markdown",
   "metadata": {},
   "source": [
    "We can see a task instance using a player, e.g., http://player.phyre.ai/#/task/00110:007\n",
    "\n",
    "Also, you can run a server locally using `phyre -m phyre.server`."
   ]
  },
  {
   "cell_type": "markdown",
   "metadata": {},
   "source": [
    "## Action simulator\n",
    "\n",
    "In a nutshell, ActionSimulator does two things:\n",
    "\n",
    "  * Returns observations for a task.\n",
    "  * Runs a simulation for a task and an action.\n",
    "\n",
    "Action space depends on the eval setup as we have different degrees of freedom for a single ball vs two balls. Therefore, we define two action tiers that define the set of allowed action and their mapping to scene objects.\n",
    "Naturally, name of the action tier matches the name of the task tier. To get it from eval setup name, use `phyre.eval_setup_to_action_space`."
   ]
  },
  {
   "cell_type": "code",
   "execution_count": 10,
   "metadata": {},
   "outputs": [
    {
     "name": "stdout",
     "output_type": "stream",
     "text": [
      "Action tier for ball_cross_template is ball\n"
     ]
    }
   ],
   "source": [
    "action_tier = phyre.eval_setup_to_action_tier(eval_setup)\n",
    "print('Action tier for', eval_setup, 'is', action_tier)"
   ]
  },
  {
   "cell_type": "markdown",
   "metadata": {},
   "source": [
    "With an action tier and a set of tasks, we can build a simulator using `phyre.initialize_simulator`. For simplicity, we'll use the first 50 items from the dev split."
   ]
  },
  {
   "cell_type": "code",
   "execution_count": 12,
   "metadata": {},
   "outputs": [],
   "source": [
    "tasks = test_tasks[:50]\n",
    "\n",
    "# Create the simulator from the tasks and tier.\n",
    "simulator = phyre.initialize_simulator(tasks, action_tier)"
   ]
  },
  {
   "cell_type": "markdown",
   "metadata": {},
   "source": [
    "#### Observations\n",
    "\n",
    "Given a simulator one can get access to the observations, e.g., the initial scene. Each observation a 2d integer array of size `phyre.SCENE_HEIGHT X phyre.SCENE_WIDTH`, i.e., `256x256`. Different values correspond to different object roles, e.g., background, default static object, static objects involved in goal condition, etc. The mapping is not a part of the public interface as we assume that the agents will learn the coding naturally. Alternatively, we provide `phyre.observations_to_float_rgb` function to map observations into RGB image."
   ]
  },
  {
   "cell_type": "code",
   "execution_count": 13,
   "metadata": {},
   "outputs": [
    {
     "name": "stdout",
     "output_type": "stream",
     "text": [
      "50\n",
      "Initial scene shape=(256, 256) dtype=int64\n"
     ]
    },
    {
     "data": {
      "image/png": "[encoded data removed]",
      "text/plain": [
       "<Figure size 432x288 with 1 Axes>"
      ]
     },
     "metadata": {
      "needs_background": "light"
     },
     "output_type": "display_data"
    }
   ],
   "source": [
    "task_index = 0  # Note, this is a integer index of task within simulator.task_ids.\n",
    "task_id = simulator.task_ids[task_index]\n",
    "print(len(simulator.task_ids))\n",
    "initial_scene = simulator.initial_scenes[task_index]\n",
    "print('Initial scene shape=%s dtype=%s' % (initial_scene.shape, initial_scene.dtype))\n",
    "plt.imshow(phyre.observations_to_float_rgb(initial_scene))\n",
    "plt.title(f'Task {task_id}');"
   ]
  },
  {
   "cell_type": "markdown",
   "metadata": {},
   "source": [
    "#### Initial vectorized objects\n",
    "\n",
    "In addition to the pixelized initial scenes, one can also get access to a vectorized state of each scene object in it's initial posiition. Each task is represented as a FeaturizedObjects, which contains features represented as a 1 x (NUM_SCENE_OBJECTS + TASK_TIER_NUM_USER_INPUTS) x 14 np.ndarray. The features of the object, in order are:\n",
    "\n",
    "\n",
    "  0. x in pixels of center of mass divided by SCENE_WIDTH\n",
    "  1. y in pixels of center of mass divided by SCENE_HEIGHT\n",
    "  2. angle of the object between 0 and 2pi divided by 2pi\n",
    "  3. diameter in pixels of object divided by SCENE_WIDTH\n",
    "  4. \\- 8. One hot encoding of the object shape, according to order: ball, bar, jar, standing sticks\n",
    "  8. \\- 14. One hot encoding of object color, according to order: red, green, blue, purple, gray, black\n",
    "  \n",
    "As the scene is vectorized into prior to user input, the rows represent only scene objects."
   ]
  },
  {
   "cell_type": "code",
   "execution_count": 14,
   "metadata": {},
   "outputs": [
    {
     "name": "stdout",
     "output_type": "stream",
     "text": [
      "Initial featurized objects shape=(1, 3, 14) dtype=float32\n",
      "[[[0.8   0.31  0.    0.4   0.    1.    0.    0.    0.    0.    0.\n",
      "   0.    0.    1.   ]\n",
      "  [0.8   0.949 0.    0.098 1.    0.    0.    0.    0.    1.    0.\n",
      "   0.    0.    0.   ]\n",
      "  [0.5   0.01  0.    1.    0.    1.    0.    0.    0.    0.    0.\n",
      "   1.    0.    0.   ]]]\n"
     ]
    }
   ],
   "source": [
    "# Let's see the features of the initial featurized objects for the scene visualized above\n",
    "initial_featurized_objects = simulator.initial_featurized_objects[task_index]\n",
    "print('Initial featurized objects shape=%s dtype=%s' % (initial_featurized_objects.features.shape, initial_featurized_objects.features.dtype))\n",
    "np.set_printoptions(precision=3)\n",
    "print(initial_featurized_objects.features)"
   ]
  },
  {
   "cell_type": "markdown",
   "metadata": {},
   "source": [
    "#### Simulation\n",
    "\n",
    "The action space is always a unit cube, but the dimension depends on the action tier. For the ball tier, the dimensionality of the action space is 3, corresponding to the (x,y) position of the ball and its radius r. For two ball tiers the dimension is 6."
   ]
  },
  {
   "cell_type": "code",
   "execution_count": 15,
   "metadata": {},
   "outputs": [
    {
     "name": "stdout",
     "output_type": "stream",
     "text": [
      "Dimension of the action space: 3\n"
     ]
    }
   ],
   "source": [
    "print('Dimension of the action space:', simulator.action_space_dim)"
   ]
  },
  {
   "cell_type": "markdown",
   "metadata": {},
   "source": [
    "We can also use the simulator to sample a fixed set of random actions from the action space using `build_discrete_action_space`. The function samples actions uniformly from the action cube skipping invalid ones. The set is guaranteed to be deterministic."
   ]
  },
  {
   "cell_type": "code",
   "execution_count": 16,
   "metadata": {},
   "outputs": [
    {
     "name": "stdout",
     "output_type": "stream",
     "text": [
      "A random action: [4.170e-01 7.203e-01 1.144e-04]\n"
     ]
    }
   ],
   "source": [
    "actions = simulator.build_discrete_action_space(max_actions=100)\n",
    "print('A random action:', actions[0])"
   ]
  },
  {
   "cell_type": "markdown",
   "metadata": {},
   "source": [
    "Now that we have an action, we can use the simulator to simulate it. Let's simulate it on the first task instance in our dataset. The simulator returns a Simulation object containing, **status** of the simulation (`phyre.SimulationStatus`), intermediate observations, and information about the object states in a FeaturizedObjects object."
   ]
  },
  {
   "cell_type": "code",
   "execution_count": 17,
   "metadata": {},
   "outputs": [],
   "source": [
    "task_index = 0  # The simulator takes an index into simulator.task_ids.\n",
    "action = random.choice(actions)\n",
    "# Set need_images=False and need_featurized_objects=False to speed up simulation, when only statuses are needed.\n",
    "simulation = simulator.simulate_action(task_index, action, need_images=True, need_featurized_objects=True)"
   ]
  },
  {
   "cell_type": "markdown",
   "metadata": {},
   "source": [
    "The first peice of information stored in the `simulation` is the status of the simulation."
   ]
  },
  {
   "cell_type": "code",
   "execution_count": 18,
   "metadata": {},
   "outputs": [
    {
     "name": "stdout",
     "output_type": "stream",
     "text": [
      "Action solves task: SimulationStatus.SOLVED\n",
      "Action does not solve task: SimulationStatus.NOT_SOLVED\n",
      "Action is an invalid input on task (e.g., occludes a task object): SimulationStatus.INVALID_INPUT\n",
      "\n",
      "Result of taking action [0.39  0.486 0.604] on task 00002:007 is: SimulationStatus.NOT_SOLVED\n",
      "Does [0.39  0.486 0.604] solve task 00002:007 ? False\n",
      "Is [0.39  0.486 0.604] an invalid action on task 00002:007 ? False\n"
     ]
    }
   ],
   "source": [
    "# Three statuses could be returned.\n",
    "print('Action solves task:', phyre.SimulationStatus.SOLVED)\n",
    "print('Action does not solve task:', phyre.SimulationStatus.NOT_SOLVED)\n",
    "print('Action is an invalid input on task (e.g., occludes a task object):',\n",
    "      phyre.SimulationStatus.INVALID_INPUT)\n",
    "# May call is_* methods on the status to check the status.\n",
    "print()\n",
    "print('Result of taking action', action, 'on task', tasks[task_index], 'is:',\n",
    "      simulation.status)\n",
    "print('Does', action, 'solve task', tasks[task_index], '?', simulation.status.is_solved())\n",
    "print('Is', action, 'an invalid action on task', tasks[task_index], '?',\n",
    "      simulation.status.is_invalid())"
   ]
  },
  {
   "cell_type": "markdown",
   "metadata": {},
   "source": [
    "The simulator also returns a series of observations from the simulation at different timesteps. The observations are taken every second during the simulation."
   ]
  },
  {
   "cell_type": "code",
   "execution_count": 19,
   "metadata": {},
   "outputs": [
    {
     "name": "stdout",
     "output_type": "stream",
     "text": [
      "Number of observations returned by simulator: 17\n"
     ]
    },
    {
     "data": {
      "image/png": "[encoded data removed]",
      "text/plain": [
       "<Figure size 1440x1080 with 20 Axes>"
      ]
     },
     "metadata": {
      "needs_background": "light"
     },
     "output_type": "display_data"
    }
   ],
   "source": [
    "%matplotlib inline\n",
    "print('Number of observations returned by simulator:', len(simulation.images))\n",
    "\n",
    "num_across = 5\n",
    "height = int(math.ceil(len(simulation.images) / num_across))\n",
    "fig, axs = plt.subplots(height, num_across, figsize=(20, 15))\n",
    "fig.tight_layout()\n",
    "plt.subplots_adjust(hspace=0.2, wspace=0.2)\n",
    "\n",
    "# We can visualize the simulation at each timestep.\n",
    "for i, (ax, image) in enumerate(zip(axs.flatten(), simulation.images)):\n",
    "    # Convert the simulation observation to images.\n",
    "    img = phyre.observations_to_float_rgb(image)\n",
    "    ax.imshow(img)\n",
    "    ax.title.set_text(f'Timestep {i}')\n",
    "    ax.get_xaxis().set_ticks([])\n",
    "    ax.get_yaxis().set_ticks([])"
   ]
  },
  {
   "cell_type": "markdown",
   "metadata": {},
   "source": [
    "The simulation also contains information about the objects in the scene, including the user inputs, and their states.\n",
    "\n",
    "The state of an object at a specific timestep is it's x position normlaized by `SCENE_WIDTH`, it's y positiion normalized by `SCENE_HEIGHT` and its angle between 0...2pi normalized by 2pi."
   ]
  },
  {
   "cell_type": "code",
   "execution_count": 22,
   "metadata": {},
   "outputs": [
    {
     "name": "stdout",
     "output_type": "stream",
     "text": [
      "Number of total objects in the simulation: 4\n",
      "Number of scene objects in the simulation: 3\n",
      "Number of user objects in the simulation: 1\n",
      "Shape of objects in the simulation:  ['BAR', 'BALL', 'BAR', 'BALL']\n",
      "Color of objects in the simulation:  ['BLACK', 'GREEN', 'PURPLE', 'RED']\n",
      "Diameter of objects in the simulation:  [0.4   0.098 1.    0.156]\n",
      "Initial states of objects in the simulation: \n",
      " [[0.8   0.31  0.   ]\n",
      " [0.8   0.949 0.   ]\n",
      " [0.5   0.01  0.   ]\n",
      " [0.387 0.48  0.   ]]\n",
      "[[0.8   0.31  0.   ]\n",
      " [0.8   0.949 0.   ]\n",
      " [0.5   0.01  0.   ]\n",
      " [0.387 0.48  0.   ]] [[0.8   0.31  0.   ]\n",
      " [0.8   0.828 0.   ]\n",
      " [0.5   0.01  0.   ]\n",
      " [0.387 0.36  0.   ]] [[0.8   0.31  0.   ]\n",
      " [0.8   0.478 0.   ]\n",
      " [0.5   0.01  0.   ]\n",
      " [0.387 0.11  0.   ]] [[0.8   0.31  0.   ]\n",
      " [0.8   0.38  0.   ]\n",
      " [0.5   0.01  0.   ]\n",
      " [0.387 0.098 0.   ]] [[0.8   0.31  0.   ]\n",
      " [0.8   0.369 0.   ]\n",
      " [0.5   0.01  0.   ]\n",
      " [0.387 0.098 0.   ]] [[0.8   0.31  0.   ]\n",
      " [0.8   0.369 0.   ]\n",
      " [0.5   0.01  0.   ]\n",
      " [0.387 0.098 0.   ]] [[0.8   0.31  0.   ]\n",
      " [0.8   0.369 0.   ]\n",
      " [0.5   0.01  0.   ]\n",
      " [0.387 0.098 0.   ]] [[0.8   0.31  0.   ]\n",
      " [0.8   0.369 0.   ]\n",
      " [0.5   0.01  0.   ]\n",
      " [0.387 0.098 0.   ]] [[0.8   0.31  0.   ]\n",
      " [0.8   0.369 0.   ]\n",
      " [0.5   0.01  0.   ]\n",
      " [0.387 0.098 0.   ]] [[0.8   0.31  0.   ]\n",
      " [0.8   0.369 0.   ]\n",
      " [0.5   0.01  0.   ]\n",
      " [0.387 0.098 0.   ]] [[0.8   0.31  0.   ]\n",
      " [0.8   0.369 0.   ]\n",
      " [0.5   0.01  0.   ]\n",
      " [0.387 0.098 0.   ]] [[0.8   0.31  0.   ]\n",
      " [0.8   0.369 0.   ]\n",
      " [0.5   0.01  0.   ]\n",
      " [0.387 0.098 0.   ]] [[0.8   0.31  0.   ]\n",
      " [0.8   0.369 0.   ]\n",
      " [0.5   0.01  0.   ]\n",
      " [0.387 0.098 0.   ]] [[0.8   0.31  0.   ]\n",
      " [0.8   0.369 0.   ]\n",
      " [0.5   0.01  0.   ]\n",
      " [0.387 0.098 0.   ]] [[0.8   0.31  0.   ]\n",
      " [0.8   0.369 0.   ]\n",
      " [0.5   0.01  0.   ]\n",
      " [0.387 0.098 0.   ]] [[0.8   0.31  0.   ]\n",
      " [0.8   0.369 0.   ]\n",
      " [0.5   0.01  0.   ]\n",
      " [0.387 0.098 0.   ]] [[0.8   0.31  0.   ]\n",
      " [0.8   0.369 0.   ]\n",
      " [0.5   0.01  0.   ]\n",
      " [0.387 0.098 0.   ]]\n"
     ]
    }
   ],
   "source": [
    "featurized_objects = simulation.featurized_objects\n",
    "print('Number of total objects in the simulation:', featurized_objects.num_objects)\n",
    "print('Number of scene objects in the simulation:', featurized_objects.num_scene_objects)\n",
    "print('Number of user objects in the simulation:', featurized_objects.num_user_inputs)\n",
    "# Let's get information about the shape of each of the objects\n",
    "print('Shape of objects in the simulation: ', featurized_objects.shapes)\n",
    "# Let's get information about the color of each of the objects\n",
    "print('Color of objects in the simulation: ', featurized_objects.colors)\n",
    "# Let's get information about the diameter of each of the objects\n",
    "print('Diameter of objects in the simulation: ', featurized_objects.diameters)\n",
    "# Let's get the initial states of the objects\n",
    "print('Initial states of objects in the simulation: \\n', featurized_objects.states[0])\n",
    "\n",
    "print(*featurized_objects.states)"
   ]
  },
  {
   "cell_type": "markdown",
   "metadata": {},
   "source": [
    "The simulation also contains information about the objects and their states featurized into a np.ndarray of size\n",
    "`NUM_TIMESTEPS` x `NUM_OBJECTS` x 14, where the features for each object at a timestep are the same as they were for `initial_featurized_objects`. This information is stored in `featurized_objects.features`. If `num_images=True` and `num_featurized_objects=True` the number of intermeidate observations (ie initial dimension) should match."
   ]
  },
  {
   "cell_type": "code",
   "execution_count": 15,
   "metadata": {},
   "outputs": [
    {
     "name": "stdout",
     "output_type": "stream",
     "text": [
      "Shape of featurized_objects: (17, 3, 14)\n",
      "Number of featurized object and image observations matches? True\n"
     ]
    }
   ],
   "source": [
    "featurized_objects = simulation.featurized_objects\n",
    "images = simulation.images\n",
    "print('Shape of featurized_objects:', featurized_objects.features.shape)\n",
    "print('Number of featurized object and image observations matches?', featurized_objects.features.shape[0] == images.shape[0])"
   ]
  },
  {
   "cell_type": "markdown",
   "metadata": {},
   "source": [
    "The featurized objects also contains seperate fields for each feature. In addition to the ones above, users can also access the x position, y position, angle, at each time step and one hot encoded version of the colors/shapes."
   ]
  },
  {
   "cell_type": "code",
   "execution_count": 16,
   "metadata": {},
   "outputs": [
    {
     "name": "stdout",
     "output_type": "stream",
     "text": [
      "Shape of xs (17, 3)\n",
      "Shape of ys (17, 3)\n",
      "Shape of angles (17, 3)\n",
      "One hot encoding of shapes [[1. 0. 0. 0.]\n",
      " [1. 0. 0. 0.]\n",
      " [1. 0. 0. 0.]]\n",
      "One hot encoding of colors [[0. 1. 0. 0. 0. 0.]\n",
      " [0. 0. 1. 0. 0. 0.]\n",
      " [1. 0. 0. 0. 0. 0.]]\n"
     ]
    }
   ],
   "source": [
    "# Shape of xs, ys, angles should be TxNx1 \n",
    "\n",
    "print('Shape of xs', featurized_objects.xs.shape)\n",
    "print('Shape of ys',featurized_objects.ys.shape)\n",
    "print('Shape of angles',featurized_objects.angles.shape)\n",
    "\n",
    "\n",
    "# Let's take a look at the one hot encoding of the shapes and colors of the objects\n",
    "print('One hot encoding of shapes', featurized_objects.shapes_one_hot)\n",
    "print('One hot encoding of colors', featurized_objects.colors_one_hot)"
   ]
  },
  {
   "cell_type": "markdown",
   "metadata": {},
   "source": [
    "Let's visualize the final state for an action that doesn't solve the task."
   ]
  },
  {
   "cell_type": "code",
   "execution_count": 17,
   "metadata": {},
   "outputs": [
    {
     "data": {
      "image/png": "[encoded data removed]",
      "text/plain": [
       "<Figure size 504x504 with 2 Axes>"
      ]
     },
     "metadata": {},
     "output_type": "display_data"
    }
   ],
   "source": [
    "target_status = phyre.SimulationStatus.NOT_SOLVED if simulation.status == phyre.SimulationStatus.SOLVED else phyre.SimulationStatus.SOLVED\n",
    "bad_action = actions[0]\n",
    "simulation = simulator.simulate_action(task_index, bad_action, need_images=True)\n",
    "assert simulation.status.is_not_solved()\n",
    "\n",
    "# Get the start and end state of the simulation.\n",
    "img_start = phyre.vis.observations_to_float_rgb(simulation.images[0])\n",
    "img_end = phyre.vis.observations_to_float_rgb(simulation.images[-1])\n",
    "\n",
    "# Visualize.\n",
    "fig, axs = plt.subplots(1, 2, figsize=(7, 7))\n",
    "fig.tight_layout()\n",
    "plt.subplots_adjust(hspace=0.4, wspace=0.3)\n",
    "axs[0].imshow(img_start)\n",
    "axs[0].title.set_text(f'Start state\\nAction solves task: {simulation.status.is_solved()}')\n",
    "axs[0].get_xaxis().set_ticks([])\n",
    "axs[0].get_yaxis().set_ticks([])\n",
    "\n",
    "axs[1].imshow(img_end)\n",
    "axs[1].title.set_text(f'End state\\nAction solves task: {simulation.status.is_solved()}')\n",
    "axs[1].get_xaxis().set_ticks([])\n",
    "axs[1].get_yaxis().set_ticks([]);\n"
   ]
  },
  {
   "cell_type": "markdown",
   "metadata": {},
   "source": [
    "# Part 2: Random Agent\n",
    "We now build our agent. We will build the simplest agent possible: an agent that each attempt makes a random (but valid) action."
   ]
  },
  {
   "cell_type": "code",
   "execution_count": 18,
   "metadata": {},
   "outputs": [],
   "source": [
    "# We define the evaluation of this agent on a given dataset split as follows:\n",
    "\n",
    "\n",
    "def evaluate_random_agent(tasks, tier):\n",
    "    \"\"\"Evaluates the random agent on the given tasks/tier.\n",
    "\n",
    "    Args:\n",
    "        tasks: A list of task instances (strings) in the split to evaluate.\n",
    "        tier: A string of the action tier.\n",
    "\n",
    "    Returns:\n",
    "        A Evaluator object updated with the results of all the siulations.\n",
    "    \"\"\"\n",
    "\n",
    "    # Create a simulator for the task and tier.\n",
    "    simulator = phyre.initialize_simulator(tasks, tier)\n",
    "    evaluator = phyre.Evaluator(tasks)\n",
    "    assert tuple(tasks) == simulator.task_ids\n",
    "    for task_index in tqdm_notebook(range(len(tasks)), desc='Evaluate tasks'):\n",
    "        while evaluator.get_attempts_for_task(\n",
    "                task_index) < phyre.MAX_TEST_ATTEMPTS:\n",
    "            # Sample a random valid action from the simulator for the given action space.\n",
    "            action = simulator.sample()\n",
    "            # Simulate the given action and add the status from taking the action to the evaluator.\n",
    "            status = simulator.simulate_action(task_index,\n",
    "                                                  action,\n",
    "                                                  need_images=False).status\n",
    "            evaluator.maybe_log_attempt(task_index, status)\n",
    "    return evaluator"
   ]
  },
  {
   "cell_type": "markdown",
   "metadata": {},
   "source": [
    "Let's evaluate our agent on the dev set (for performance)."
   ]
  },
  {
   "cell_type": "code",
   "execution_count": 19,
   "metadata": {},
   "outputs": [
    {
     "data": {
      "application/vnd.jupyter.widget-view+json": {
       "model_id": "5124af572f12400798c44be94afad746",
       "version_major": 2,
       "version_minor": 0
      },
      "text/plain": [
       "HBox(children=(FloatProgress(value=0.0, description='Evaluate tasks', max=50.0, style=ProgressStyle(descriptio…"
      ]
     },
     "metadata": {},
     "output_type": "display_data"
    },
    {
     "name": "stdout",
     "output_type": "stream",
     "text": [
      "\n"
     ]
    }
   ],
   "source": [
    "# NOTE: Evaluating this agent can take ~1.5 minutes.\n",
    "evaluator = evaluate_random_agent(tasks, action_tier)"
   ]
  },
  {
   "cell_type": "markdown",
   "metadata": {},
   "source": [
    "The metric used to compare the performance of agents is AUCESS after 100 attempts. See the PHYRE paper for more details on the AUCESS metric."
   ]
  },
  {
   "cell_type": "code",
   "execution_count": 20,
   "metadata": {},
   "outputs": [
    {
     "name": "stdout",
     "output_type": "stream",
     "text": [
      "AUCESS after 100 attempts of random agent on dev set 0.5144086813306381\n"
     ]
    }
   ],
   "source": [
    "print('AUCESS after 100 attempts of random agent on dev set',\n",
    "      evaluator.get_aucess())"
   ]
  }
 ],
 "metadata": {
  "jupytext": {
   "formats": "ipynb,py:light",
   "main_language": "python",
   "notebook_metadata_filter": "jupytext,-kernelspec"
  },
  "kernelspec": {
   "display_name": "Python 3",
   "language": "python",
   "name": "python3"
  },
  "language_info": {
   "codemirror_mode": {
    "name": "ipython",
    "version": 3
   },
   "file_extension": ".py",
   "mimetype": "text/x-python",
   "name": "python",
   "nbconvert_exporter": "python",
   "pygments_lexer": "ipython3",
   "version": "3.6.13"
  }
 },
 "nbformat": 4,
 "nbformat_minor": 2
}
